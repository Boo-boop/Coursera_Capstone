{
 "cells": [
  {
   "cell_type": "markdown",
   "metadata": {},
   "source": [
    "## Description of the data and how it will be used to solve the problem\n",
    "\n",
    "\tFor the problem we are going to research we need the information that can help us to understand where in the city of Berlin we have the high density of points of interest places. We are going to do this with the help of 4square. We will acquire the data of different venues; we cluster them and the we plot it on the map where we can see that “high risk” districts. \n",
    "\n"
   ]
  },
  {
   "cell_type": "markdown",
   "metadata": {},
   "source": [
    "\tAlso we need the list of boroughs of Berlin, the number of people who has COVID-19 in Berlin up to this date."
   ]
  },
  {
   "cell_type": "markdown",
   "metadata": {},
   "source": [
    "\tIn result we should able to see how diffferent boroughs have different number of infected and why.\n",
    "    The results actually can be used for people to be informed which boroughs are more dangerous in the matter of the covid-19 and why. Of course such topics require really deep investigation but as it is our first project we can try our best :)"
   ]
  }
 ],
 "metadata": {
  "kernelspec": {
   "display_name": "Python 3",
   "language": "python",
   "name": "python3"
  },
  "language_info": {
   "codemirror_mode": {
    "name": "ipython",
    "version": 3
   },
   "file_extension": ".py",
   "mimetype": "text/x-python",
   "name": "python",
   "nbconvert_exporter": "python",
   "pygments_lexer": "ipython3",
   "version": "3.7.6"
  }
 },
 "nbformat": 4,
 "nbformat_minor": 4
}
