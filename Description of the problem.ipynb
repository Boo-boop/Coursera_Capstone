{
 "cells": [
  {
   "cell_type": "markdown",
   "metadata": {},
   "source": [
    "### Description of the problem\n",
    "\n",
    "So everyone knows that in the last few month we are having a really big struggle with COVID-19.\n",
    "\n",
    "\n"
   ]
  },
  {
   "cell_type": "markdown",
   "metadata": {},
   "source": [
    "A lot of people got sick, the rest of the world should stay at home on isolation, a lot of businesses shut down, economy is falling down and etc.\n",
    "This virus has a really big influence on us. So why don’t we make a little analysis? Let’s say we analyze boroughs of such a big city as Berlin and see which of these boroughs suffered influence with COVID-19 the most and using the 4square will try to see "
   ]
  },
  {
   "cell_type": "markdown",
   "metadata": {},
   "source": [
    "If there any pattern.\n",
    "Would be better to analyze the trending places with 4square and see the pattern of infections but we can’t as due to COVID-19 they are not such places right know and so they cannot be our project topic."
   ]
  }
 ],
 "metadata": {
  "kernelspec": {
   "display_name": "Python 3",
   "language": "python",
   "name": "python3"
  },
  "language_info": {
   "codemirror_mode": {
    "name": "ipython",
    "version": 3
   },
   "file_extension": ".py",
   "mimetype": "text/x-python",
   "name": "python",
   "nbconvert_exporter": "python",
   "pygments_lexer": "ipython3",
   "version": "3.7.6"
  }
 },
 "nbformat": 4,
 "nbformat_minor": 4
}
